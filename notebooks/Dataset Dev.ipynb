{
 "cells": [
  {
   "cell_type": "code",
   "execution_count": null,
   "metadata": {},
   "outputs": [],
   "source": [
    "import pickle"
   ]
  },
  {
   "cell_type": "code",
   "execution_count": null,
   "metadata": {},
   "outputs": [],
   "source": [
    "import matplotlib.pyplot as plt"
   ]
  },
  {
   "cell_type": "code",
   "execution_count": null,
   "metadata": {},
   "outputs": [],
   "source": [
    "import numpy as np"
   ]
  },
  {
   "cell_type": "code",
   "execution_count": null,
   "metadata": {},
   "outputs": [],
   "source": [
    "class shower:\n",
    "    \n",
    "    def __init__(self,showerId=-1):\n",
    "        self.N_XMAX=16\n",
    "        self.N_YMAX=16\n",
    "        self.X_OFFSET=8\n",
    "        self.Y_OFFSET=8\n",
    "        self.showerId=showerId\n",
    "        self.showerPixels=np.zeros((self.N_XMAX,self.N_YMAX))\n",
    "        pass\n",
    "    \n",
    "    def setShowerEnergy(self,E):\n",
    "        self.showerEnergy=E\n",
    "        \n",
    "    def setPixel(self,i,j,nPhoton):\n",
    "        if i+self.X_OFFSET >= self.N_XMAX:\n",
    "            raise Exception(\" \",i,\" > \",self.N_XMAX)\n",
    "        if j+self.Y_OFFSET >= self.N_YMAX:\n",
    "            raise Exception(\" \",j,\" > \",self.N_YMAX)\n",
    "        self.showerPixels[i+self.X_OFFSET][j+self.Y_OFFSET] = nPhoton\n",
    "        "
   ]
  },
  {
   "cell_type": "code",
   "execution_count": null,
   "metadata": {},
   "outputs": [],
   "source": [
    "class BaseCorsikaDataset:\n",
    "    \n",
    "    def __init_( self ):\n",
    "        pass\n",
    "    \n",
    "    def setFileNames(self , fileNames):\n",
    "        self.fileList=list(fileNames)\n",
    "    \n",
    "    def setEnergyFileNames(self,fileNames):\n",
    "        self.energyFileNames=[i for i in fileNames]\n",
    "    \n",
    "    def loadEnergyData(self):\n",
    "        \n",
    "        pass\n",
    "        \n",
    "    "
   ]
  },
  {
   "cell_type": "code",
   "execution_count": null,
   "metadata": {},
   "outputs": [],
   "source": [
    "txt=[]\n",
    "enFnames=[]\n",
    "with open('enFiles.fls') as f:\n",
    "    txt=f.readlines()\n",
    "for l in txt:\n",
    "    enFnames.append(l[:-1])"
   ]
  },
  {
   "cell_type": "code",
   "execution_count": null,
   "metadata": {},
   "outputs": [],
   "source": [
    "showerEnergyMap={}\n",
    "for fname in enFnames:\n",
    "    with open(fname) as f:\n",
    "        print(\"Processing \",fname)\n",
    "        txt=f.readlines()\n",
    "        for l in txt:\n",
    "            if l[0]=='#':\n",
    "                continue\n",
    "            items=l[:-1].split('\\t')\n",
    "            showerEnergyMap[int(items[0])] = float( items[1])\n",
    "        print(\"\\tLoaded \",len(showerEnergyMap),\" shower energies\")"
   ]
  },
  {
   "cell_type": "code",
   "execution_count": null,
   "metadata": {},
   "outputs": [],
   "source": [
    "vals=[ i for i in showerEnergyMap.values()]\n",
    "plt.hist(vals,bins=np.linspace(0,1e3,20))\n",
    "plt.semilogy()"
   ]
  },
  {
   "cell_type": "code",
   "execution_count": null,
   "metadata": {},
   "outputs": [],
   "source": [
    "showerListPrimary={}\n",
    "showerListWithNSB={}\n",
    "nShower=0\n",
    "NMAX=2000\n",
    "with open('../workarea/datasets/Gamma/ga_0001_t_corr_bin_nsb.dat') as f:\n",
    "    l=f.readline()\n",
    "    currentShower=None\n",
    "    while l:\n",
    "        items=l.split('\\t')\n",
    "        showerId      =int(items[0])\n",
    "        showerI       =int(items[1])\n",
    "        showerJ       =int(items[2])\n",
    "        showerNPhotons=int(items[3])\n",
    "        if not currentShower or (showerId != currentShower.showerId ):\n",
    "            currentShower=shower(showerId)\n",
    "            showerListWithNSB[showerId]=currentShower\n",
    "            nShower+=1\n",
    "            if nShower%500==0:\n",
    "                print(\"processed \",nShower,\" showers \")\n",
    "            if nShower > NMAX:\n",
    "                break\n",
    "        if showerNPhotons >0:\n",
    "            l=f.readline()\n",
    "        currentShower.setPixel(showerI,showerJ,showerNPhotons)\n",
    "        l=f.readline()\n",
    "        \n",
    "print(\"\\nProcesssing the primary showers\")        \n",
    "nShower=0       \n",
    "with open('../workarea/datasets/Gamma/ga_0001_t_corr_bin.dat') as f:\n",
    "    l=f.readline()\n",
    "    currentShower=None\n",
    "    while l:\n",
    "        items=l.split('\\t')\n",
    "        showerId      =int(items[0])\n",
    "        showerI       =int(items[1])\n",
    "        showerJ       =int(items[2])\n",
    "        showerNPhotons=int(items[3])\n",
    "        if not currentShower or (showerId != currentShower.showerId ):\n",
    "            currentShower=shower(showerId)\n",
    "            showerListPrimary[showerId]=currentShower\n",
    "            nShower+=1\n",
    "            if nShower%500==0:\n",
    "                print(\"processed \",nShower,\" showers \")\n",
    "            if nShower > NMAX:\n",
    "                break\n",
    "        if showerNPhotons >0:\n",
    "            l=f.readline()\n",
    "        currentShower.setPixel(showerI,showerJ,showerNPhotons)\n",
    "        l=f.readline()        "
   ]
  },
  {
   "cell_type": "code",
   "execution_count": null,
   "metadata": {},
   "outputs": [],
   "source": [
    "\n",
    "showerId=np.random.randint(0,len(showerListWithNSB))\n",
    "# showerId=649\n",
    "f=plt.figure( figsize=(16,8) )\n",
    "plt.gcf().set_size_inches(20, 20)        \n",
    "ax1=plt.subplot(131)\n",
    "ax2=plt.subplot(132)\n",
    "ax3=plt.subplot(133)\n",
    "mat=showerListWithNSB[showerId].showerPixels\n",
    "ax1.imshow(mat,cmap=plt.cm.Greys)\n",
    "for i in range(16):\n",
    "    for j in range(16):\n",
    "        c = mat[j,i]\n",
    "        ax1.text(i, j, str(int(c)), va='center', ha='center',color='r')\n",
    "ax1.set_title(f'Shower ID : {showerId} [ signal + NSB ]',fontsize=15)       \n",
    "\n",
    "mat=showerListPrimary[showerId].showerPixels\n",
    "ax2.imshow(mat,cmap=plt.cm.Greys)\n",
    "for i in range(16):\n",
    "    for j in range(16):\n",
    "        if mat[j,i]==0:\n",
    "            continue\n",
    "        c = mat[j,i]\n",
    "        ax2.text(i, j, str(int(c)), va='center', ha='center',color='r')\n",
    "ax2.set_title(f'Shower ID : {showerId} [ signal ]',fontsize=15)       \n",
    "diffMat=showerListWithNSB[showerId].showerPixels-showerListPrimary[showerId].showerPixels\n",
    "ax3.imshow(diffMat,cmap=plt.cm.Greys)\n",
    "for i in range(16):\n",
    "    for j in range(16):\n",
    "        c = diffMat[j,i]\n",
    "        ax3.text(i, j, str(int(c)), va='center', ha='center',color='r')\n",
    "ax3.set_title(f'Shower ID : {showerId} [ NSB ]',fontsize=15)       \n",
    "        "
   ]
  },
  {
   "cell_type": "code",
   "execution_count": null,
   "metadata": {},
   "outputs": [],
   "source": [
    "signal_mat.shape"
   ]
  },
  {
   "cell_type": "code",
   "execution_count": null,
   "metadata": {},
   "outputs": [],
   "source": [
    "\n",
    "plt.gcf().set_size_inches(20, 20)  \n",
    "ax1=plt.subplot(131)\n",
    "ax2=plt.subplot(132)\n",
    "ax3=plt.subplot(133)\n",
    "\n",
    "# showerId  = 1487\n",
    "signal_mat=showerListPrimary[showerId].showerPixels\n",
    "realstic_mat=showerListWithNSB[showerId].showerPixels\n",
    "axList  = [ ax1, ax2, ax3]\n",
    "matList = [\n",
    "            signal_mat ,\n",
    "            realstic_mat ,\n",
    "            realstic_mat - signal_mat\n",
    "          ] \n",
    "\n",
    "y0,x0=np.unravel_index(signal_mat.argmax(), signal_mat.shape)\n",
    "ys, xs =np.where(signal_mat > 0)\n",
    "y0 = min(ys) ; y1 = max(ys)\n",
    "x0 = min(xs) ; x1 = max(xs)\n",
    "w = x1 - x0 + 2 ; h = y1 - y0 + 2\n",
    "cX = 0.5*( x0 + x1) ; cY = 0.5*( y0 + y1)\n",
    "\n",
    "L,H = signal_mat.shape\n",
    "print(1,cX/L,cY/H,w/L,h/L)\n",
    "\n",
    "for ax,mat in zip(axList,matList):\n",
    "    ax.imshow(mat,cmap=plt.cm.Greys)\n",
    "    # plt.grid()\n",
    "\n",
    "    xs=[cX -0.5*w , cX +0.5*w , cX +0.5*w , cX -0.5*w , cX -0.5*w]\n",
    "    ys=[cY -0.5*h , cY -0.5*h , cY +0.5*h , cY +0.5*h , cY -0.5*h]\n",
    "    ax.plot(xs, ys, color=\"red\")\n",
    "    ax.axis('off')\n",
    "    ax.set_xticks([])\n",
    "    ax.set_yticks([])\n",
    "    \n",
    "    "
   ]
  },
  {
   "cell_type": "markdown",
   "metadata": {},
   "source": [
    "## Export as YOLO Dataset Image"
   ]
  },
  {
   "cell_type": "code",
   "execution_count": null,
   "metadata": {},
   "outputs": [],
   "source": [
    "base='../workarea/datasets/yolo/train/'"
   ]
  },
  {
   "cell_type": "code",
   "execution_count": null,
   "metadata": {},
   "outputs": [],
   "source": [
    "signal_mat=showerListPrimary[showerId].showerPixels\n",
    "realstic_mat=showerListWithNSB[showerId].showerPixels\n",
    "y0,x0=np.unravel_index(signal_mat.argmax(), signal_mat.shape)\n",
    "ys, xs =np.where(signal_mat > 0)\n",
    "y0 = min(ys) ; y1 = max(ys)\n",
    "x0 = min(xs) ; x1 = max(xs)\n",
    "w = x1 - x0 + 2 ; h = y1 - y0 + 2\n",
    "cX = 0.5*( x0 + x1) ; cY = 0.5*( y0 + y1)\n",
    "L,H = signal_mat.shape\n",
    "tagStr=f\"{showerId} {cX/L} {cY/H} {w/L} {h/L}\"\n",
    "plt.imshow(mat,cmap=plt.cm.Greys)\n",
    "plt.gca().axis('off')\n",
    "plt.gca().set_xticks([])\n",
    "plt.gca().set_yticks([])\n",
    "foutName=base+f'/{showerId}'\n",
    "print(f\"Saving {foutName}\")\n",
    "with open(foutName+'.txt','w') as f:\n",
    "    f.write(tagStr)\n",
    "plt.savefig(foutName+'.png', bbox_inches='tight', pad_inches=0)\n"
   ]
  },
  {
   "cell_type": "code",
   "execution_count": null,
   "metadata": {},
   "outputs": [],
   "source": [
    "base"
   ]
  }
 ],
 "metadata": {
  "kernelspec": {
   "display_name": "Python 3",
   "language": "python",
   "name": "python3"
  },
  "language_info": {
   "codemirror_mode": {
    "name": "ipython",
    "version": 3
   },
   "file_extension": ".py",
   "mimetype": "text/x-python",
   "name": "python",
   "nbconvert_exporter": "python",
   "pygments_lexer": "ipython3",
   "version": "3.8.10"
  }
 },
 "nbformat": 4,
 "nbformat_minor": 5
}
